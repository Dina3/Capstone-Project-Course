{
 "cells": [
  {
   "cell_type": "markdown",
   "metadata": {},
   "source": [
    "## Project: In a city of your choice, if a contractor is trying to start their own business, where would you recommend that they setup their business?"
   ]
  },
  {
   "cell_type": "markdown",
   "metadata": {},
   "source": [
    "\n",
    "\n",
    "#### 1.\tProblem Statement: Prospects of a Coffee & Bar shop, close to densed office places in North London, UK.\n",
    "\n",
    "London is now the world’s leading centre of global finance placing New York into second place. Indeed, London is a fantastic city that has a venture capital industry. When choosing where to do business, London meets all the right criteria. It's home to all the right people, the highest-quality services and a multitude of opportunities. \n",
    "In 1965, London was divided into 32 different boroughs where twelve were designated Inner London boroughs while the remaining twenty, forming a ring around Inner London are called Outer London boroughs. For this project, we will try to concentrate on Northern Area of the city.\n",
    "\n",
    "In search of a business opportunity, two friends have decided to work together and open a new Coffee & Bar shop in an area of North London. In their shop, they will provide their local costumers with the finest hot and cold beverages, specialising in specialty coffees and custom blended teas. In addition, they will offer healthy organic breakfast and lunch options, possibly near densed office places. A selection of domestic soft drinks, Italian sodas, fresh-baked pastries, and other confections is going to be part of the shop counter. Seasonally, new added beverages such as hot apple cider, frozen coffees, and more would be introduced in the shop menu.\n",
    "\n",
    "We will go through each step of this project and address them step-by-step. I first outline the initial data preparation and describe future steps to start the battle of neighborhoods in North London.\n",
    "\n"
   ]
  },
  {
   "cell_type": "code",
   "execution_count": null,
   "metadata": {},
   "outputs": [],
   "source": []
  }
 ],
 "metadata": {
  "kernelspec": {
   "display_name": "Python 3",
   "language": "python",
   "name": "python3"
  },
  "language_info": {
   "codemirror_mode": {
    "name": "ipython",
    "version": 3
   },
   "file_extension": ".py",
   "mimetype": "text/x-python",
   "name": "python",
   "nbconvert_exporter": "python",
   "pygments_lexer": "ipython3",
   "version": "3.7.1"
  }
 },
 "nbformat": 4,
 "nbformat_minor": 2
}
