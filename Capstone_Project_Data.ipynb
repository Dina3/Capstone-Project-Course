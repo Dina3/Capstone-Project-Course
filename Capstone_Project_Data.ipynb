{
 "cells": [
  {
   "cell_type": "markdown",
   "metadata": {},
   "source": [
    "## Project: In a city of your choice, if a contractor is trying to start their own business, where would you recommend that they setup their business?"
   ]
  },
  {
   "cell_type": "markdown",
   "metadata": {},
   "source": [
    "### 2.\tData Preparation:"
   ]
  },
  {
   "cell_type": "markdown",
   "metadata": {},
   "source": [
    "\n",
    "**2.1. Scrapping London boroughs Table from Wikipedia**\n",
    "\n",
    "From the Wikipedia page  called List of London boroughs (https://en.wikipedia.org/wiki/List_of_London_boroughs) the first table was scrapped to create a data-frame. For this, I’ll use requests and Beautifulsoup4 library to create a data-frame containing name of the 32 London boroughs, Area, population and coordinates. \n",
    "\n",
    "\n"
   ]
  },
  {
   "cell_type": "code",
   "execution_count": null,
   "metadata": {},
   "outputs": [],
   "source": []
  },
  {
   "cell_type": "code",
   "execution_count": null,
   "metadata": {},
   "outputs": [],
   "source": []
  },
  {
   "cell_type": "markdown",
   "metadata": {},
   "source": [
    "### 2.2. Using Foursquare Location Data:"
   ]
  },
  {
   "cell_type": "markdown",
   "metadata": {},
   "source": [
    "For this business problem, the Foursquare API would be used to retrieve information about the popular spots around these North London boroughs. The call returns a JSON file and we need to turn that into a data-frame. Here I have chosen 50 popular spots for each borough within a radius of 5 km. Below is the data-frame obtained from the JSON file that was returned by Foursquare"
   ]
  },
  {
   "cell_type": "code",
   "execution_count": null,
   "metadata": {},
   "outputs": [],
   "source": []
  },
  {
   "cell_type": "markdown",
   "metadata": {},
   "source": [
    "### 3. Visualization and Data Exploration:\n",
    "\n",
    "\n",
    "\n",
    "\n",
    "**3.1. Folium Library and Leaflet Map:**\n",
    "\n",
    "Folium is a python library that can create interactive leaflet map using coordinate data. Since I am interested in coffee shop as popular spots first I create a data-frame where the ‘Venue_Category’ column in previous data-frame contains the word ‘Coffee’. I used the following snippet of code "
   ]
  },
  {
   "cell_type": "code",
   "execution_count": null,
   "metadata": {},
   "outputs": [],
   "source": []
  },
  {
   "cell_type": "markdown",
   "metadata": {},
   "source": [
    "###\n",
    "4. Clustering the Districts"
   ]
  },
  {
   "cell_type": "code",
   "execution_count": null,
   "metadata": {},
   "outputs": [],
   "source": []
  }
 ],
 "metadata": {
  "kernelspec": {
   "display_name": "Python 3",
   "language": "python",
   "name": "python3"
  },
  "language_info": {
   "codemirror_mode": {
    "name": "ipython",
    "version": 3
   },
   "file_extension": ".py",
   "mimetype": "text/x-python",
   "name": "python",
   "nbconvert_exporter": "python",
   "pygments_lexer": "ipython3",
   "version": "3.7.1"
  }
 },
 "nbformat": 4,
 "nbformat_minor": 2
}
